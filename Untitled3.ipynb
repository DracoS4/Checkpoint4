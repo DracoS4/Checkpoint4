{
 "cells": [
  {
   "cell_type": "code",
   "execution_count": 1,
   "id": "26c02f88",
   "metadata": {},
   "outputs": [
    {
     "name": "stdout",
     "output_type": "stream",
     "text": [
      "7\n"
     ]
    }
   ],
   "source": [
    "def maximum(x,y,z):\n",
    "    if x>=y and x>=z:\n",
    "        return x\n",
    "    elif y>=x and y>=z:\n",
    "        return y\n",
    "    else:\n",
    "        return z\n",
    "    \n",
    "print (maximum(2,5,7))"
   ]
  },
  {
   "cell_type": "code",
   "execution_count": 2,
   "id": "2015ccfa",
   "metadata": {},
   "outputs": [
    {
     "name": "stdout",
     "output_type": "stream",
     "text": [
      "(69, 11)\n"
     ]
    }
   ],
   "source": [
    "\n",
    "def calculation(a,b):\n",
    "    return (a+b,a-b)\n",
    "\n",
    "print(calculation(40,29))"
   ]
  },
  {
   "cell_type": "code",
   "execution_count": 8,
   "id": "8643da24",
   "metadata": {},
   "outputs": [
    {
     "data": {
      "text/plain": [
       "21"
      ]
     },
     "execution_count": 8,
     "metadata": {},
     "output_type": "execute_result"
    }
   ],
   "source": [
    "List=[2,7,3,9]\n",
    "def addition(l) :\n",
    "    s=0\n",
    "    for i in l:\n",
    "        s=s+i\n",
    "    return s\n",
    "addition(List)"
   ]
  },
  {
   "cell_type": "code",
   "execution_count": 14,
   "id": "dcd6c221",
   "metadata": {},
   "outputs": [
    {
     "data": {
      "text/plain": [
       "378"
      ]
     },
     "execution_count": 14,
     "metadata": {},
     "output_type": "execute_result"
    }
   ],
   "source": [
    "def multiplication(l):\n",
    "    m=1\n",
    "    for i in l:\n",
    "        m=m*i\n",
    "    return m\n",
    "\n",
    "multiplication(List)"
   ]
  },
  {
   "cell_type": "code",
   "execution_count": 16,
   "id": "bdb978da",
   "metadata": {},
   "outputs": [
    {
     "data": {
      "text/plain": [
       "(5, 63)"
      ]
     },
     "execution_count": 16,
     "metadata": {},
     "output_type": "execute_result"
    }
   ],
   "source": [
    "def both(l):\n",
    "    p=[]\n",
    "    I=[]\n",
    "    for i in range(len(l)):\n",
    "        if i%2==0:\n",
    "            p.append(l[i])\n",
    "        else:\n",
    "            I.append(l[i])\n",
    "    return addition(p),multiplication(I)\n",
    "    \n",
    "both(List)\n",
    "                "
   ]
  },
  {
   "cell_type": "code",
   "execution_count": 20,
   "id": "4dc166cc",
   "metadata": {},
   "outputs": [
    {
     "name": "stdout",
     "output_type": "stream",
     "text": [
      "moi-mal-mii-malboro-miro\n",
      "mal-malboro-mii-miro-moi\n"
     ]
    }
   ],
   "source": [
    "i= [n for n in input() .split('-')]\n",
    "i.sort()\n",
    "print('-'.join(i))"
   ]
  },
  {
   "cell_type": "code",
   "execution_count": 26,
   "id": "c9a7e756",
   "metadata": {},
   "outputs": [
    {
     "name": "stdout",
     "output_type": "stream",
     "text": [
      "entrer la valeur de D: 18,22,24\n"
     ]
    },
    {
     "data": {
      "text/plain": [
       "[8, 9, 9]"
      ]
     },
     "execution_count": 26,
     "metadata": {},
     "output_type": "execute_result"
    }
   ],
   "source": [
    "import math\n",
    "def calcul_sqrt():\n",
    "    n=input(\"entrer la valeur de D: \")\n",
    "    n=n.split(',')\n",
    "    l =[]\n",
    "    for D in n:\n",
    "        Q=round(math.sqrt(2*50*int(D)/30))\n",
    "        l.append(Q)\n",
    "    return l\n",
    "calcul_sqrt ()"
   ]
  },
  {
   "cell_type": "code",
   "execution_count": null,
   "id": "26f86989",
   "metadata": {},
   "outputs": [],
   "source": []
  }
 ],
 "metadata": {
  "kernelspec": {
   "display_name": "Python 3 (ipykernel)",
   "language": "python",
   "name": "python3"
  },
  "language_info": {
   "codemirror_mode": {
    "name": "ipython",
    "version": 3
   },
   "file_extension": ".py",
   "mimetype": "text/x-python",
   "name": "python",
   "nbconvert_exporter": "python",
   "pygments_lexer": "ipython3",
   "version": "3.9.7"
  }
 },
 "nbformat": 4,
 "nbformat_minor": 5
}
